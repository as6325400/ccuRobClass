{
 "cells": [
  {
   "cell_type": "code",
   "execution_count": 23,
   "metadata": {},
   "outputs": [],
   "source": [
    "import requests\n",
    "from bs4 import BeautifulSoup as bs"
   ]
  },
  {
   "cell_type": "code",
   "execution_count": 24,
   "metadata": {},
   "outputs": [],
   "source": [
    "# 設定帳密資料等\n",
    "\n",
    "USERID = \"407710037\"\n",
    "PASSWORD = \"ccu10037\"\n",
    "URL = \"http://140.123.30.101/~ccmisp98/cgi-bin/class/bookmark.php\"\n",
    "SESSIONID = \"\""
   ]
  },
  {
   "cell_type": "code",
   "execution_count": 25,
   "metadata": {},
   "outputs": [],
   "source": [
    "# 登陸\n",
    "response = requests.post(URL, data={\"id\" : USERID, \"password\" : PASSWORD})\n",
    "response.encoding = 'UTF-8'\n",
    "\n"
   ]
  },
  {
   "cell_type": "code",
   "execution_count": 26,
   "metadata": {},
   "outputs": [
    {
     "name": "stdout",
     "output_type": "stream",
     "text": [
      "wyJLNz6BI0osLqBGA36dJo2pUvV1YzH7Y528\n"
     ]
    }
   ],
   "source": [
    "loginWeb = bs(response.text)\n",
    "loginLog = loginWeb.title.string\n",
    "\n",
    "if loginLog == \"主選單\":\n",
    "    sessionTag = loginWeb.find('meta', {'http-equiv': 'refresh'})\n",
    "\n",
    "    if sessionTag != None:\n",
    "        sessionTag = sessionTag.get('content')\n",
    "        start_index = sessionTag.find('session')\n",
    "        if start_index != -1:\n",
    "            start_index += len('session_id=')\n",
    "            SESSIONID = sessionTag[start_index:]\n",
    "            print(SESSIONID)\n",
    "        else:\n",
    "            print(\"Not found session_id\")\n",
    "\n",
    "else:\n",
    "    print(loginLog)"
   ]
  },
  {
   "cell_type": "code",
   "execution_count": 27,
   "metadata": {},
   "outputs": [
    {
     "name": "stdout",
     "output_type": "stream",
     "text": [
      "False\n"
     ]
    }
   ],
   "source": [
    "paylaod = {\"session_id\": SESSIONID,\n",
    "           \"dept\" : \"4104\",\n",
    "           \"grade\" : \"3\", \n",
    "           \"e\": \"0\",\n",
    "           \"m\": \"0\",\n",
    "           \"SelectTag\": \"1\",\n",
    "           \"4103001_01\": \"1\",\n",
    "           \"4103001_02\": \"1\",\n",
    "           \"4103022_01\": \"2\",\n",
    "           \"course\": \"4103022_01\",\n",
    "            \"4103026_01\": \"2\",\n",
    "            \"4103055_01\": \"1\",\n",
    "            \"4103055_02\": \"1\",\n",
    "            \"4103800_01\": \"1\"\n",
    "           }\n",
    "\n",
    "\n",
    "response = requests.post(\"http://140.123.30.101/~ccmisp98/cgi-bin/class/Add_Course01.cgi\", paylaod)\n",
    "response.encoding = 'UTF-8'\n",
    "val = bs(response.text, features='html.parser')\n",
    "ans = str(val.find_all('font'))\n",
    "print(\"錯誤\" in ans)"
   ]
  }
 ],
 "metadata": {
  "kernelspec": {
   "display_name": "base",
   "language": "python",
   "name": "python3"
  },
  "language_info": {
   "codemirror_mode": {
    "name": "ipython",
    "version": 3
   },
   "file_extension": ".py",
   "mimetype": "text/x-python",
   "name": "python",
   "nbconvert_exporter": "python",
   "pygments_lexer": "ipython3",
   "version": "3.9.17"
  },
  "orig_nbformat": 4
 },
 "nbformat": 4,
 "nbformat_minor": 2
}
