{
 "cells": [
  {
   "cell_type": "code",
   "execution_count": 34,
   "metadata": {},
   "outputs": [],
   "source": [
    "import requests\n",
    "from bs4 import BeautifulSoup as bs"
   ]
  },
  {
   "cell_type": "code",
   "execution_count": 37,
   "metadata": {},
   "outputs": [],
   "source": [
    "# 設定帳密資料等\n",
    "\n",
    "USERID = \"407710037\"\n",
    "PASSWORD = \"ccu10037\"\n",
    "URL = \"http://140.123.30.101/~ccmisp98/cgi-bin/class/bookmark.php\"\n",
    "SESSIONID = \"\""
   ]
  },
  {
   "cell_type": "code",
   "execution_count": 38,
   "metadata": {},
   "outputs": [
    {
     "name": "stdout",
     "output_type": "stream",
     "text": [
      "YrbHvHjyDjYsLqBGA36dJo2pUvV1YzH7Y715\n"
     ]
    }
   ],
   "source": [
    "response = requests.post(URL, data={\"id\" : USERID, \"password\" : PASSWORD})\n",
    "response.encoding = 'UTF-8'\n",
    "\n",
    "loginWeb = bs(response.text)\n",
    "sessionTag = loginWeb.find('meta', {'http-equiv': 'refresh'})\n",
    "\n",
    "if sessionTag != None:\n",
    "    sessionTag = sessionTag.get('content')\n",
    "    start_index = sessionTag.find('session')\n",
    "    if start_index != -1:\n",
    "        start_index += len('session_id=')\n",
    "        SESSIONID = sessionTag[start_index:]\n",
    "        print(SESSIONID)\n",
    "    else:\n",
    "        print(\"Not found session_id\")\n"
   ]
  },
  {
   "cell_type": "code",
   "execution_count": 42,
   "metadata": {},
   "outputs": [
    {
     "data": {
      "text/plain": [
       "'\\n    <html>\\n      <head><meta http-equiv=\"Content-Type\" content=\"text/html; charset=utf-8\"></head>\\n      <body background=\"https://kiki.ccu.edu.tw/~ccmisp98/Graph/./ccu-sbg.jpg\">\\n        <center>\\n          <table width=800 border=0>\\n  <tr>\\n    <th>姓名: 郭XXX</th>\\n    <th>學號: 407710037</th>\\n    <th>系所: 成人及繼續教育學系</th>\\n    <th>年級: 4</th>\\n    <th>班別: A</th>\\n  </tr>\\n  </table>\\n\\n        <hr><br>\\n        <font size=5>錯誤： 您所選的科目(或原先已選科目)有衝堂情形:<BR><FONT color=RED>(星期三的第 E 堂) 與 (星期三的第 E 堂)</FONT><BR>\\n        <font size=5>請 <a href=\"javascript:history.back()\">重新選取。</a></font>\\n        </center>\\n      </body>\\n    </html>\\n  '"
      ]
     },
     "execution_count": 42,
     "metadata": {},
     "output_type": "execute_result"
    }
   ],
   "source": [
    "paylaod = {\"session_id\": SESSIONID,\n",
    "           \"dept\" : \"4104\",\n",
    "           \"grade\" : \"3\", \n",
    "           \"e\": \"0\",\n",
    "           \"m\": \"0\",\n",
    "           \"SelectTag\": \"1\",\n",
    "           \"4103001_01\": \"1\",\n",
    "           \"4103001_02\": \"1\",\n",
    "           \"4103022_01\": \"2\",\n",
    "           \"course\": \"4103022_01\",\n",
    "            \"4103026_01\": \"2\",\n",
    "            \"4103055_01\": \"1\",\n",
    "            \"4103055_02\": \"1\",\n",
    "            \"4103800_01\": \"1\"\n",
    "           }\n",
    "\n",
    "\n",
    "r = requests.post(\"http://140.123.30.101/~ccmisp98/cgi-bin/class/Add_Course01.cgi\", paylaod)\n",
    "r.encoding = 'UTF-8'\n",
    "r.text"
   ]
  }
 ],
 "metadata": {
  "kernelspec": {
   "display_name": "base",
   "language": "python",
   "name": "python3"
  },
  "language_info": {
   "codemirror_mode": {
    "name": "ipython",
    "version": 3
   },
   "file_extension": ".py",
   "mimetype": "text/x-python",
   "name": "python",
   "nbconvert_exporter": "python",
   "pygments_lexer": "ipython3",
   "version": "3.9.17"
  },
  "orig_nbformat": 4
 },
 "nbformat": 4,
 "nbformat_minor": 2
}
